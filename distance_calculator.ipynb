{
  "nbformat": 4,
  "nbformat_minor": 0,
  "metadata": {
    "colab": {
      "provenance": [],
      "authorship_tag": "ABX9TyO1lpoTAudBxB0fYh67DB2B"
    },
    "kernelspec": {
      "name": "python3",
      "display_name": "Python 3"
    },
    "language_info": {
      "name": "python"
    }
  },
  "cells": [
    {
      "cell_type": "markdown",
      "source": [
        "# Set working directory [DONE] "
      ],
      "metadata": {
        "id": "dWSV40FEMhS3"
      }
    },
    {
      "cell_type": "code",
      "source": [
        "# Import the os module\n",
        "import os\n",
        "# Prints the current working directory\n",
        "print(os.getcwd())\n",
        "# Change the working directory to D:\\Temporary Github\\distance_and_weighting_optimization\n",
        "os.chdir('D:\\Temporary Github\\distance_and_weighting_optimization')"
      ],
      "metadata": {
        "id": "_2nlymEMMpjh"
      },
      "execution_count": null,
      "outputs": []
    },
    {
      "cell_type": "markdown",
      "source": [
        "# Read a CSV file with only selected headers [DONE; ADD!]"
      ],
      "metadata": {
        "id": "rE2F5phXM1Hj"
      }
    },
    {
      "cell_type": "code",
      "source": [
        "import pandas as pd\n",
        "\n",
        "# reads the table in the tab \"collectors\" and sets index to actor_id\n",
        "df_collectors = pd.read_excel(\"Data.xlsx\",\"collectors\", index_col=0)\n",
        "df_metal_processors = pd.read_excel(\"Data.xlsx\",\"metal_processors\", index_col=0)\n",
        "df_buyers = pd.read_excel(\"Data.xlsx\",\"buyers\", index_col=0)\n",
        "\n",
        "\n",
        "print(df_collectors.head())\n",
        "print(df_collectors.info())\n",
        "\n",
        "print(df_metal_processors.head())\n",
        "print(df_metal_processors.info())\n",
        "\n",
        "print(df_buyers.head())\n",
        "print(df_buyers.info())"
      ],
      "metadata": {
        "id": "lv_8yblGM7Mv"
      },
      "execution_count": null,
      "outputs": []
    },
    {
      "cell_type": "markdown",
      "source": [
        "# Turn actor locations into format needed for API [NOT STARTED]"
      ],
      "metadata": {
        "id": "aN67GEVZM9CX"
      }
    },
    {
      "cell_type": "code",
      "source": [
        "querystring = {\n",
        "    \"origins\":\"40.629041,-74.025606;40.630099,-73.993521;40.644895,-74.013818;40.627177,-73.980853\"\n",
        "    }\n",
        "\n",
        "df_collectors[[\"longitude\",\"latitude\"]]"
      ],
      "metadata": {
        "id": "PLmHhmvjNAKM"
      },
      "execution_count": null,
      "outputs": []
    },
    {
      "cell_type": "markdown",
      "source": [
        "# Turn list with elements as rows and elements within second list as columns into a table and load into a CSV file [NOT STARTED]\n",
        "\n",
        "The table is a 2d array which cannot be read into csv in its current format. Using \n",
        "numpy array functions the individual elements in each list can be defined as the rows\n",
        "and columns of the .csv file which will be the output.\n",
        "\n",
        "The response from the API is in disances and durations, meaning that a separate table\n",
        "has to be built for each one. "
      ],
      "metadata": {
        "id": "VI6kdeVgNDRo"
      }
    },
    {
      "cell_type": "code",
      "source": [
        "'''\n",
        "table = {\n",
        "  \"distances\": [\n",
        "    [\n",
        "      0,\n",
        "      3939,\n",
        "      2077,\n",
        "      5417\n",
        "    ],\n",
        "    [\n",
        "      4004,\n",
        "      0,\n",
        "      2609,\n",
        "      1480\n",
        "    ],\n",
        "    [\n",
        "      2667,\n",
        "      2803,\n",
        "      0,\n",
        "      3646\n",
        "    ],\n",
        "    [\n",
        "      5762,\n",
        "      2395,\n",
        "      4367,\n",
        "      0\n",
        "    ]\n",
        "  ],\n",
        "  \"durations\": [\n",
        "    [\n",
        "      0,\n",
        "      844,\n",
        "      495,\n",
        "      1104\n",
        "    ],\n",
        "    [\n",
        "      882,\n",
        "      0,\n",
        "      740,\n",
        "      408\n",
        "    ],\n",
        "    [\n",
        "      547,\n",
        "      771,\n",
        "      0,\n",
        "      1024\n",
        "    ],\n",
        "    [\n",
        "      1200,\n",
        "      574,\n",
        "      1208,\n",
        "      0\n",
        "    ]\n",
        "  ]\n",
        "}\n",
        "'''"
      ],
      "metadata": {
        "id": "AKSbyeZtNTuZ"
      },
      "execution_count": null,
      "outputs": []
    },
    {
      "cell_type": "markdown",
      "source": [
        "# Optional\n",
        "* Split a list into smaller lists with max 25 rows [NOT STARTED]\n",
        "* Iteratively use distance/time API by creating several lists and\n",
        "appending into one list. [NOT STARTED]"
      ],
      "metadata": {
        "id": "O4lwnyrINj8T"
      }
    }
  ]
}